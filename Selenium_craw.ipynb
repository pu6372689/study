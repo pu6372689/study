{
 "cells": [
  {
   "cell_type": "code",
   "execution_count": 9,
   "metadata": {},
   "outputs": [],
   "source": [
    "from selenium.webdriver import Chrome                                   #主要爬蟲工具\n",
    "from selenium.webdriver.common.keys import Keys                         #需要使用鍵盤功能\n",
    "from selenium.common.exceptions import NoSuchElementException           #使用try:except除錯\n",
    "from selenium.common.exceptions import ElementNotInteractableException  #同上\n",
    "from selenium.common.exceptions import ElementClickInterceptedException\n",
    "import pandas as pd                                                     #轉為dataframe\n",
    "import time                                                             #sleep 減少被發現機率\n",
    "import random"
   ]
  },
  {
   "cell_type": "code",
   "execution_count": null,
   "metadata": {},
   "outputs": [],
   "source": [
    "driver = Chrome('chromedriver.exe')  \n",
    "#使用Chrome瀏覽器\n",
    "ENTER = u'\\ue007'                    \n",
    "#啟用ENTER鍵\n",
    "url = 'https://www.google.com/search?q=uptodate'\n",
    "#目標網站\n",
    "driver.get(url)\n",
    "                 \n",
    "driver.find_element_by_xpath('//*[@id=\"rso\"]/div[1]/div/table/tbody/tr[3]/td[1]/div/span/h3/a').click()\n",
    "#xpath:html內容的絕對路徑\n",
    "driver.find_element_by_id('userName').send_keys(\"*******\")\n",
    "driver.find_element_by_id('password').send_keys(\"*******\")\n",
    "#請輸入帳號密碼登入\n",
    "time.sleep(5)\n",
    "#休息5秒\n",
    "driver.find_element_by_id('btnLoginSubmit').click()\n",
    "#點擊登入\n",
    "\n",
    "aurl = 'https://www.uptodate.com/drug-interactions/?source=responsive_home#di-druglist'\n",
    "#更換網址以切換頁面\n",
    "driver.get(aurl)"
   ]
  },
  {
   "cell_type": "code",
   "execution_count": null,
   "metadata": {},
   "outputs": [],
   "source": [
    "#輸入藥物名稱並點擊加入清單，使用TRY:EXCEPT避免搜尋不到時跳出錯誤\n",
    "def drug(a,b):\n",
    "    for i in range(a,b):\n",
    "        aurl = 'https://www.uptodate.com/drug-interactions/?source=responsive_home#di-druglist'\n",
    "\n",
    "        driver.get(aurl)\n",
    "\n",
    "\n",
    "        driver.find_element_by_xpath('//*[@id=\"druglist-add\"]').click()\n",
    "\n",
    "        driver.find_element_by_xpath('//*[@id=\"search-field\"]/input').send_keys(\"{}\".format(soseat[i]))\n",
    "\n",
    "        time.sleep(1)\n",
    "        try:\n",
    "            driver.find_element_by_xpath('//*[@id=\"main-container\"]/div[3]/ul/li[1]/a').click()\n",
    "        except NoSuchElementException:\n",
    "            driver.find_element_by_xpath('//*[@id=\"search-back\"]').click()\n",
    "    time.sleep(random.randint(5,15))\n",
    "    \n",
    "    searchitem()\n",
    "    \n",
    "    driver.find_element_by_xpath('//*[@id=\"toolbar-left\"]').click()\n",
    "    driver.find_element_by_xpath('//*[@id=\"toolbar-left\"]/a[2]').click()\n",
    "\n"
   ]
  },
  {
   "cell_type": "code",
   "execution_count": 41,
   "metadata": {},
   "outputs": [],
   "source": [
    "def searchresults():\n",
    "    time.sleep(3)\n",
    "    count = driver.find_element_by_xpath('//*[@id=\"toolbar-middle\"]/span[3]').text.rstrip(' Results')\n",
    "    if count != '':\n",
    "        count = int(count)\n",
    "        for results in range(1,count+1):\n",
    "            #print(results)\n",
    "            time.sleep(3)\n",
    "            driver.find_element_by_xpath('//*[@id=\"main-container\"]/div[5]/ul/li[{}]'.format(results)).click()\n",
    "            datacreater()\n",
    "\n",
    "            driver.find_element_by_xpath('//*[@id=\"toolbar-left\"]/a[5]').click()\n",
    "    else:\n",
    "        time.sleep(2)"
   ]
  },
  {
   "cell_type": "code",
   "execution_count": null,
   "metadata": {},
   "outputs": [],
   "source": [
    "#由於無法確認藥物數量，持續迴圈直到最後一個藥品時自動停止\n",
    "\n",
    "def searchitem():\n",
    "    i = 1\n",
    "    while True:\n",
    "        time.sleep(3)\n",
    "        try:\n",
    "            driver.find_element_by_xpath('//*[@id=\"main-container\"]/div[4]/ul[1]/li[{}]'.format(i)).click()\n",
    "        except NoSuchElementException:\n",
    "            break\n",
    "        searchresults()\n",
    "        driver.find_element_by_xpath('//*[@id=\"analyze-back\"]').click()\n",
    "        i += 1"
   ]
  },
  {
   "cell_type": "code",
   "execution_count": null,
   "metadata": {},
   "outputs": [],
   "source": [
    "def searchresults():\n",
    "    time.sleep(3)\n",
    "    count = driver.find_element_by_xpath('//*[@id=\"toolbar-middle\"]/span[3]').text.rstrip(' Results')\n",
    "    if count != '':\n",
    "        count = int(count)\n",
    "        for results in range(1,count+1):\n",
    "            time.sleep(3)\n",
    "            try:\n",
    "                driver.find_element_by_xpath('//*[@id=\"main-container\"]/div[5]/ul/li[{}]'.format(results)).click()\n",
    "            except ElementClickInterceptedException:\n",
    "                driver.find_element_by_xpath('//*[@id=\"main-container\"]/div[5]/ul/li[{}]'.format(results+1)).click()\n",
    "            datacreater()\n",
    "\n",
    "            driver.find_element_by_xpath('//*[@id=\"toolbar-left\"]/a[5]').click()\n",
    "    else:\n",
    "        time.sleep(2)"
   ]
  },
  {
   "cell_type": "code",
   "execution_count": null,
   "metadata": {},
   "outputs": [],
   "source": [
    "def datacreater():\n",
    "    time.sleep(3)\n",
    "    \n",
    "    drugtable = driver.find_element_by_xpath('//*[@id=\"docContents\"]').text\n",
    "    \n",
    "    if 'Dependencies' in drugtable:\n",
    "\n",
    "        Title = driver.find_element_by_xpath('//*[@id=\"docContents\"]/p[1]').text\n",
    "        Title = Title.lstrip('Title ')\n",
    "        \n",
    "        Dependencies = driver.find_element_by_xpath('//*[@id=\"docContents\"]/ul/li/p').text\n",
    "\n",
    "        RiskRating = driver.find_element_by_xpath('//*[@id=\"docContents\"]/p[4]').text\n",
    "        RiskRating = RiskRating.lstrip('Risk Rating ')\n",
    "\n",
    "        AllSummary = driver.find_element_by_xpath('//*[@id=\"docContents\"]/p[5]').text\n",
    "\n",
    "        Summary =  AllSummary.split('Summary ')[1].split(' Severity ')[0]\n",
    "\n",
    "        Severity = AllSummary.split('Summary ')[1].split(' Severity ')[1].split(' Reliability Rating ')[0]\n",
    "\n",
    "        ReliabilityRating = AllSummary.split('Summary ')[1].split(' Severity ')[1].split(' Reliability Rating ')[1]\n",
    "\n",
    "\n",
    "        PatientManagement = driver.find_element_by_xpath('//*[@id=\"docContents\"]/p[6]').text\n",
    "        PatientManagement = PatientManagement.lstrip('Patient Management ')\n",
    "\n",
    "        Discussion = driver.find_element_by_xpath('//*[@id=\"docContents\"]/p[7]').text\n",
    "        Discussion = Discussion.lstrip('Discussion ')\n",
    "\n",
    "    df.append([Title,Dependencies,RiskRating,Summary,Severity,ReliabilityRating,PatientManagement,Discussion])"
   ]
  },
  {
   "cell_type": "code",
   "execution_count": null,
   "metadata": {},
   "outputs": [],
   "source": []
  },
  {
   "cell_type": "code",
   "execution_count": null,
   "metadata": {},
   "outputs": [],
   "source": []
  }
 ],
 "metadata": {
  "kernelspec": {
   "display_name": "Python 3",
   "language": "python",
   "name": "python3"
  },
  "language_info": {
   "codemirror_mode": {
    "name": "ipython",
    "version": 3
   },
   "file_extension": ".py",
   "mimetype": "text/x-python",
   "name": "python",
   "nbconvert_exporter": "python",
   "pygments_lexer": "ipython3",
   "version": "3.8.6"
  }
 },
 "nbformat": 4,
 "nbformat_minor": 4
}
